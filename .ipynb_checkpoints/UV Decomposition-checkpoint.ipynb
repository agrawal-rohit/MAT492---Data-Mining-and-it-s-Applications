{
 "cells": [
  {
   "cell_type": "code",
   "execution_count": 1,
   "metadata": {},
   "outputs": [],
   "source": [
    "# Rohit Agrawal\n",
    "# 1610110292\n",
    "# MAT492 - Data Mining and its Applications\n",
    "\n",
    "import numpy as np\n",
    "def rmse(a,b):\n",
    "    error = 0\n",
    "    for i in range(a.shape[0]):\n",
    "        for j in range(a.shape[1]):\n",
    "            error += (a[i][j] - b[i][j])**2\n",
    "    error = error/len(a)\n",
    "    error = np.sqrt(error)\n",
    "    return error"
   ]
  },
  {
   "cell_type": "code",
   "execution_count": 2,
   "metadata": {},
   "outputs": [
    {
     "name": "stdout",
     "output_type": "stream",
     "text": [
      "M = [[4 3 3 2 3]\n",
      " [3 1 4 1 1]\n",
      " [2 0 2 1 3]\n",
      " [0 3 2 3 2]\n",
      " [0 2 2 1 3]]\n"
     ]
    }
   ],
   "source": [
    "n = 5\n",
    "d = 2\n",
    "M = np.random.randint(5, size=(n,n))\n",
    "print('M = ' + str(M))"
   ]
  },
  {
   "cell_type": "markdown",
   "metadata": {},
   "source": [
    "#### Optimizing elements sequentially"
   ]
  },
  {
   "cell_type": "code",
   "execution_count": 3,
   "metadata": {},
   "outputs": [
    {
     "name": "stdout",
     "output_type": "stream",
     "text": [
      "Original RMSE = 2.569046515733026\n",
      "\n",
      "RMSE: 1.771442646481606\n",
      "\n"
     ]
    }
   ],
   "source": [
    "# Initializing as ones\n",
    "U = np.ones((n,d))\n",
    "V = np.ones((d,n))\n",
    "P = np.matmul(U,V)\n",
    "current_rmse = rmse(P,M)\n",
    "print('Original RMSE = ' + str(current_rmse) + '\\n')\n",
    "\n",
    "num_iterations = 1000\n",
    "for iteration in range(num_iterations):\n",
    "    for r in range(n):         # Optimizing U matrix\n",
    "        for s in range(d):\n",
    "            numerator = 0\n",
    "            denominator = 0\n",
    "            for j in range(d):\n",
    "                temp = 0\n",
    "                for k in range(d):\n",
    "                    if k is not s:\n",
    "                        temp += U[r][k]*V[k][j]\n",
    "                numerator += V[s][j] * (M[r][j] - temp)\n",
    "                denominator += V[s][j]**2\n",
    "            optimal = numerator/denominator\n",
    "            U[r][s] = optimal\n",
    "            P = np.matmul(U,V)\n",
    "            #print('Changing element - U[' + str(r) +'][' + str(s) + '] :')\n",
    "            #print('U = ' + str(U) + '\\n')\n",
    "            #print('RMSE: ' + str(rmse(P,M)) + '\\n')\n",
    "\n",
    "    for s in range(n):          # Optimizing V matrix\n",
    "        for r in range(d):\n",
    "            numerator = 0\n",
    "            denominator = 0\n",
    "            for i in range(n):\n",
    "                temp = 0\n",
    "                for k in range(d):\n",
    "                    if k is not r:\n",
    "                        temp += U[i][k]*V[k][s]\n",
    "                numerator += U[i][r] * (M[i][s] - temp)\n",
    "                denominator += U[i][r]**2\n",
    "            optimal = numerator/denominator\n",
    "            V[r][s] = optimal\n",
    "            P = np.matmul(U,V)\n",
    "            #print('Changing element - V[' + str(r) +'][' + str(s) + '] :')\n",
    "            #print('V = ' + str(V) + '\\n')\n",
    "            #print('RMSE: ' + str(rmse(P,M)) + '\\n')\n",
    "print('RMSE: ' + str(rmse(P,M)) + '\\n')"
   ]
  },
  {
   "cell_type": "code",
   "execution_count": 4,
   "metadata": {},
   "outputs": [
    {
     "name": "stdout",
     "output_type": "stream",
     "text": [
      "Original RMSE = 2.5674890457409942\n",
      "\n",
      "RMSE: 1.7714426464816058\n",
      "\n"
     ]
    }
   ],
   "source": [
    "# Initializing using optimal initialization\n",
    "a = np.mean(M)\n",
    "optimal_init = np.sqrt(a/d)\n",
    "U = np.full((n,d), optimal_init)\n",
    "V = np.full((d,n), optimal_init)\n",
    "P = np.matmul(U,V)\n",
    "current_rmse = rmse(P,M)\n",
    "print('Original RMSE = ' + str(current_rmse) + '\\n')\n",
    "\n",
    "num_iterations = 1000\n",
    "for iteration in range(num_iterations):\n",
    "    for r in range(n):         # Optimizing U matrix\n",
    "        for s in range(d):\n",
    "            numerator = 0\n",
    "            denominator = 0\n",
    "            for j in range(d):\n",
    "                temp = 0\n",
    "                for k in range(d):\n",
    "                    if k is not s:\n",
    "                        temp += U[r][k]*V[k][j]\n",
    "                numerator += V[s][j] * (M[r][j] - temp)\n",
    "                denominator += V[s][j]**2\n",
    "            optimal = numerator/denominator\n",
    "            U[r][s] = optimal\n",
    "            P = np.matmul(U,V)\n",
    "            #print('Changing element - U[' + str(r) +'][' + str(s) + '] :')\n",
    "            #print('U = ' + str(U) + '\\n')\n",
    "            #print('RMSE: ' + str(rmse(P,M)) + '\\n')\n",
    "\n",
    "    for s in range(n):          # Optimizing V matrix\n",
    "        for r in range(d):\n",
    "            numerator = 0\n",
    "            denominator = 0\n",
    "            for i in range(n):\n",
    "                temp = 0\n",
    "                for k in range(d):\n",
    "                    if k is not r:\n",
    "                        temp += U[i][k]*V[k][s]\n",
    "                numerator += U[i][r] * (M[i][s] - temp)\n",
    "                denominator += U[i][r]**2\n",
    "            optimal = numerator/denominator\n",
    "            V[r][s] = optimal\n",
    "            P = np.matmul(U,V)\n",
    "            #print('Changing element - V[' + str(r) +'][' + str(s) + '] :')\n",
    "            #print('V = ' + str(V) + '\\n')\n",
    "            #print('RMSE: ' + str(rmse(P,M)) + '\\n')\n",
    "print('RMSE: ' + str(rmse(P,M)) + '\\n')"
   ]
  },
  {
   "cell_type": "code",
   "execution_count": 5,
   "metadata": {},
   "outputs": [
    {
     "name": "stdout",
     "output_type": "stream",
     "text": [
      "M = [[4 3 3 2 3]\n",
      " [3 1 4 1 1]\n",
      " [2 0 2 1 3]\n",
      " [0 3 2 3 2]\n",
      " [0 2 2 1 3]]\n",
      "\n",
      "P = [[ 4.00000000e+00  3.00000000e+00  4.38235294e+00  2.48190045e+00\n",
      "   3.57692308e+00]\n",
      " [ 3.00000000e+00  1.00000000e+00  2.58823529e+00  9.36651584e-01\n",
      "   1.76923077e+00]\n",
      " [ 2.00000000e+00  9.57783877e-17  1.35294118e+00  1.31221719e-01\n",
      "   6.92307692e-01]\n",
      " [-2.75127389e-18  3.00000000e+00  1.67647059e+00  2.21945701e+00\n",
      "   2.19230769e+00]\n",
      " [-2.05653063e-17  2.00000000e+00  1.11764706e+00  1.47963801e+00\n",
      "   1.46153846e+00]]\n"
     ]
    }
   ],
   "source": [
    "print('M = ' + str(M) + '\\n')\n",
    "print('P = ' + str(P) )"
   ]
  },
  {
   "cell_type": "markdown",
   "metadata": {},
   "source": [
    "#### Optimizing random elements\n"
   ]
  },
  {
   "cell_type": "code",
   "execution_count": 6,
   "metadata": {},
   "outputs": [
    {
     "name": "stdout",
     "output_type": "stream",
     "text": [
      "Original RMSE = 2.569046515733026\n",
      "\n",
      "RMSE: 1.7714426464814454\n",
      "\n"
     ]
    }
   ],
   "source": [
    "# Initializing as ones\n",
    "U = np.ones((n,d))\n",
    "V = np.ones((d,n))\n",
    "P = np.matmul(U,V)\n",
    "current_rmse = rmse(P,M)\n",
    "print('Original RMSE = ' + str(current_rmse) + '\\n')\n",
    "\n",
    "num_iterations = 1000\n",
    "for iteration in range(num_iterations):\n",
    "    #print('Iteration ' + str(iteration) + ': \\n')\n",
    "    optimizeUorV = np.random.randint(2)\n",
    "    if optimizeUorV == 0:         # Optimize U matrix\n",
    "        r = np.random.randint(n)\n",
    "        s = np.random.randint(d)\n",
    "        numerator = 0\n",
    "        denominator = 0\n",
    "        for j in range(d):\n",
    "            temp = 0\n",
    "            for k in range(d):\n",
    "                if k is not s:\n",
    "                    temp += U[r][k]*V[k][j]\n",
    "            numerator += V[s][j] * (M[r][j] - temp)\n",
    "            denominator += V[s][j]**2\n",
    "        optimal = numerator/denominator\n",
    "        U[r][s] = optimal\n",
    "        P = np.matmul(U,V)\n",
    "        #print('Changing element - U[' + str(r) +'][' + str(s) + '] :')\n",
    "        #print('U = ' + str(U) + '\\n')\n",
    "        #print('RMSE: ' + str(rmse(P,M)) + '\\n')\n",
    "\n",
    "    else:                         # Optimize V matrix\n",
    "        r = np.random.randint(d)\n",
    "        s = np.random.randint(n)\n",
    "        numerator = 0\n",
    "        denominator = 0\n",
    "        for i in range(n):\n",
    "            temp = 0\n",
    "            for k in range(d):\n",
    "                if k is not r:\n",
    "                    temp += U[i][k]*V[k][s]\n",
    "            numerator += U[i][r] * (M[i][s] - temp)\n",
    "            denominator += U[i][r]**2\n",
    "        optimal = numerator/denominator\n",
    "        V[r][s] = optimal\n",
    "        P = np.matmul(U,V)\n",
    "        #print('Changing element - V[' + str(r) +'][' + str(s) + '] :')\n",
    "        #print('V = ' + str(V) + '\\n')\n",
    "        #print('RMSE: ' + str(rmse(P,M)) + '\\n')\n",
    "print('RMSE: ' + str(rmse(P,M)) + '\\n')"
   ]
  },
  {
   "cell_type": "code",
   "execution_count": 7,
   "metadata": {},
   "outputs": [
    {
     "name": "stdout",
     "output_type": "stream",
     "text": [
      "Original RMSE = 2.5674890457409942\n",
      "\n",
      "RMSE: 1.771442646481611\n",
      "\n"
     ]
    }
   ],
   "source": [
    "# Initializing using optimal initialization\n",
    "a = np.mean(M)\n",
    "optimal_init = np.sqrt(a/d)\n",
    "U = np.full((n,d), optimal_init)\n",
    "V = np.full((d,n), optimal_init)\n",
    "P = np.matmul(U,V)\n",
    "current_rmse = rmse(P,M)\n",
    "print('Original RMSE = ' + str(current_rmse) + '\\n')\n",
    "\n",
    "num_iterations = 1000\n",
    "for iteration in range(num_iterations):\n",
    "    #print('Iteration ' + str(iteration) + ': \\n')\n",
    "    optimizeUorV = np.random.randint(2)\n",
    "    if optimizeUorV == 0:         # Optimize U matrix\n",
    "        r = np.random.randint(n)\n",
    "        s = np.random.randint(d)\n",
    "        numerator = 0\n",
    "        denominator = 0\n",
    "        for j in range(d):\n",
    "            temp = 0\n",
    "            for k in range(d):\n",
    "                if k is not s:\n",
    "                    temp += U[r][k]*V[k][j]\n",
    "            numerator += V[s][j] * (M[r][j] - temp)\n",
    "            denominator += V[s][j]**2\n",
    "        optimal = numerator/denominator\n",
    "        U[r][s] = optimal\n",
    "        P = np.matmul(U,V)\n",
    "        #print('Changing element - U[' + str(r) +'][' + str(s) + '] :')\n",
    "        #print('U = ' + str(U) + '\\n')\n",
    "        #print('RMSE: ' + str(rmse(P,M)) + '\\n')\n",
    "\n",
    "    else:         # Optimize V matrix\n",
    "        r = np.random.randint(d)\n",
    "        s = np.random.randint(n)\n",
    "        numerator = 0\n",
    "        denominator = 0\n",
    "        for i in range(n):\n",
    "            temp = 0\n",
    "            for k in range(d):\n",
    "                if k is not r:\n",
    "                    temp += U[i][k]*V[k][s]\n",
    "            numerator += U[i][r] * (M[i][s] - temp)\n",
    "            denominator += U[i][r]**2\n",
    "        optimal = numerator/denominator\n",
    "        V[r][s] = optimal\n",
    "        P = np.matmul(U,V)\n",
    "        #print('Changing element - V[' + str(r) +'][' + str(s) + '] :')\n",
    "        #print('V = ' + str(V) + '\\n')\n",
    "        #print('RMSE: ' + str(rmse(P,M)) + '\\n')\n",
    "print('RMSE: ' + str(rmse(P,M)) + '\\n')"
   ]
  },
  {
   "cell_type": "code",
   "execution_count": 8,
   "metadata": {},
   "outputs": [
    {
     "name": "stdout",
     "output_type": "stream",
     "text": [
      "M = [[4 3 3 2 3]\n",
      " [3 1 4 1 1]\n",
      " [2 0 2 1 3]\n",
      " [0 3 2 3 2]\n",
      " [0 2 2 1 3]]\n",
      "\n",
      "P = [[ 4.00000000e+00  3.00000000e+00  4.38235294e+00  2.48190045e+00\n",
      "   3.57692308e+00]\n",
      " [ 3.00000000e+00  1.00000000e+00  2.58823529e+00  9.36651584e-01\n",
      "   1.76923077e+00]\n",
      " [ 2.00000000e+00 -4.20660360e-14  1.35294118e+00  1.31221719e-01\n",
      "   6.92307692e-01]\n",
      " [ 9.73846673e-14  3.00000000e+00  1.67647059e+00  2.21945701e+00\n",
      "   2.19230769e+00]\n",
      " [ 6.77132713e-14  2.00000000e+00  1.11764706e+00  1.47963801e+00\n",
      "   1.46153846e+00]]\n"
     ]
    }
   ],
   "source": [
    "print('M = ' + str(M) + '\\n')\n",
    "print('P = ' + str(P) )"
   ]
  }
 ],
 "metadata": {
  "kernelspec": {
   "display_name": "Python 3",
   "language": "python",
   "name": "python3"
  },
  "language_info": {
   "codemirror_mode": {
    "name": "ipython",
    "version": 3
   },
   "file_extension": ".py",
   "mimetype": "text/x-python",
   "name": "python",
   "nbconvert_exporter": "python",
   "pygments_lexer": "ipython3",
   "version": "3.6.6"
  }
 },
 "nbformat": 4,
 "nbformat_minor": 2
}
