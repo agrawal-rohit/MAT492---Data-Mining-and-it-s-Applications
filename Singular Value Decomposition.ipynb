{
 "cells": [
  {
   "cell_type": "code",
   "execution_count": 1,
   "metadata": {},
   "outputs": [],
   "source": [
    "# Rohit Agrawal\n",
    "# 1610110292\n",
    "# MAT492 - Data Mining and its Applications\n",
    "\n",
    "import numpy as np\n",
    "def rmse(a,b):\n",
    "    error = 0\n",
    "    for i in range(a.shape[0]):\n",
    "        for j in range(a.shape[1]):\n",
    "            error += (a[i][j] - b[i][j])**2\n",
    "    error = error/len(a)\n",
    "    error = np.sqrt(error)\n",
    "    return error"
   ]
  },
  {
   "cell_type": "code",
   "execution_count": 2,
   "metadata": {},
   "outputs": [],
   "source": [
    "m = 5\n",
    "n = 5\n",
    "M = np.random.randint(10, size=(m,n))\n",
    "MMT = M.dot(M.T)\n",
    "e_value_1_1, e_vector_1_1 = np.linalg.eigh(MMT)\n",
    "\n",
    "MTM = M.T.dot(M)\n",
    "e_value_1_2, e_vector_1_2 = np.linalg.eigh(MTM)"
   ]
  },
  {
   "cell_type": "code",
   "execution_count": 3,
   "metadata": {},
   "outputs": [],
   "source": [
    "# Sort the eigenvector via eigenvalue ranks\n",
    "idx_1_1 = e_value_1_1.argsort()[::-1]\n",
    "e_value_1_1 = e_value_1_1[idx_1_1]\n",
    "e_vector_1_1 = e_vector_1_1[:, idx_1_1]\n",
    "\n",
    "idx_1_2 = e_value_1_2.argsort()[::-1]\n",
    "e_value_1_2 = e_value_1_2[idx_1_2]\n",
    "e_vector_1_2 = e_vector_1_2[:, idx_1_2]"
   ]
  },
  {
   "cell_type": "code",
   "execution_count": 4,
   "metadata": {},
   "outputs": [
    {
     "name": "stdout",
     "output_type": "stream",
     "text": [
      "Eigenvalues 1 = [5.18576307e+02 8.10334535e+01 4.26183085e+01 1.07177275e+01\n",
      " 5.42031350e-02]\n",
      "\n",
      "Eigenvalues 2 = [5.18576307e+02 8.10334535e+01 4.26183085e+01 1.07177275e+01\n",
      " 5.42031350e-02]\n",
      "\n"
     ]
    }
   ],
   "source": [
    "print('Eigenvalues 1 = ' + str(e_value_1_1) + '\\n')\n",
    "print('Eigenvalues 2 = ' + str(e_value_1_2) + '\\n')"
   ]
  },
  {
   "cell_type": "code",
   "execution_count": 5,
   "metadata": {},
   "outputs": [
    {
     "name": "stdout",
     "output_type": "stream",
     "text": [
      "U = [[-0.37828134  0.7453611  -0.26683204  0.40240925 -0.26116569]\n",
      " [-0.58138164  0.11648014  0.16848103 -0.14870668  0.77325819]\n",
      " [-0.39566231  0.10084668  0.27388957 -0.70702068 -0.50831836]\n",
      " [-0.56346246 -0.62093321 -0.4775473   0.1794747  -0.19154481]\n",
      " [-0.21180183 -0.1874596   0.77288284  0.53278862 -0.19694488]]\n",
      "\n",
      "S = [[22.77227058  0.          0.          0.          0.        ]\n",
      " [ 0.          9.00185833  0.          0.          0.        ]\n",
      " [ 0.          0.          6.52826995  0.          0.        ]\n",
      " [ 0.          0.          0.          0.23281567  0.        ]\n",
      " [ 0.          0.          0.          0.          3.27379405]]\n",
      "\n",
      "V = [[-0.3085002  -0.57252015 -0.5228314  -0.4131268  -0.36472165]\n",
      " [-0.32362144 -0.26175887  0.31217523  0.6732128  -0.52543564]\n",
      " [-0.58812046 -0.10674154  0.63281449 -0.42813494  0.24283093]\n",
      " [-0.27898162  0.74603662 -0.08174523 -0.23593228 -0.55068349]\n",
      " [-0.61349846  0.18904651 -0.47122977  0.37033392  0.47820115]]\n",
      "\n",
      "----------------------------------------- \n",
      "\n",
      "Reconstructed Matrix = \n",
      "[[ 2.16063529e-15  1.00000000e+00  3.00000000e+00  8.00000000e+00\n",
      "   7.00000000e+00]\n",
      " [ 2.00000000e+00  3.00000000e+00  9.00000000e+00  3.00000000e+00\n",
      "   9.00000000e+00]\n",
      " [ 2.00000000e+00  4.00000000e+00  6.00000000e+00  4.00000000e+00\n",
      "   4.00000000e+00]\n",
      " [ 9.00000000e+00  5.00000000e+00  6.00000000e+00 -7.09016137e-16\n",
      "   8.00000000e+00]\n",
      " [ 1.25369538e-15  4.00000000e+00  6.00000000e+00 -9.56034735e-16\n",
      "   1.70880865e-15]]\n",
      "\n",
      "Original Matrix = \n",
      "[[0 1 3 8 7]\n",
      " [2 3 9 3 9]\n",
      " [2 4 6 4 4]\n",
      " [9 5 6 0 8]\n",
      " [0 4 6 0 0]]\n",
      "\n",
      "RMSE = 5.6519172881416546e-15\n",
      "\n"
     ]
    }
   ],
   "source": [
    "# Create each matrix\n",
    "temp = M.T.dot(M)\n",
    "S,V = np.linalg.eig(temp)\n",
    "S = np.diag(np.sqrt(S))\n",
    "U = M.dot(V).dot(np.linalg.inv(S))\n",
    "\n",
    "print('U = ' + str(U) + '\\n')\n",
    "print('S = ' + str(S) + '\\n')\n",
    "print('V = ' + str(V) + '\\n')\n",
    "print('----------------------------------------- \\n')\n",
    "M_recon = U.dot(S).dot(V.T)\n",
    "print('Reconstructed Matrix = \\n' + str(M_recon) + '\\n')\n",
    "print('Original Matrix = \\n' + str(M) + '\\n')\n",
    "print('RMSE = ' + str(rmse(M_recon, M)) + '\\n')"
   ]
  }
 ],
 "metadata": {
  "kernelspec": {
   "display_name": "Python 3",
   "language": "python",
   "name": "python3"
  },
  "language_info": {
   "codemirror_mode": {
    "name": "ipython",
    "version": 3
   },
   "file_extension": ".py",
   "mimetype": "text/x-python",
   "name": "python",
   "nbconvert_exporter": "python",
   "pygments_lexer": "ipython3",
   "version": "3.6.6"
  }
 },
 "nbformat": 4,
 "nbformat_minor": 2
}
